{
 "cells": [
  {
   "cell_type": "code",
   "execution_count": 3,
   "metadata": {},
   "outputs": [],
   "source": [
    "import yaml\n",
    "config = dict(\n",
    "    search_tweets_api = dict(\n",
    "        account_type = 'premium',\n",
    "        endpoint = 'https://api.twitter.com/1.1/tweets/search/fullarchive/Development.json',\n",
    "        consumer_key = 'UX00ERQbpwsyZ6WxmSbhsrikR',\n",
    "        consumer_secret = '9afeaAml3gdGTNpluNQaB4Ofacec4FaKjNufQURiBUEYkletq4'\n",
    "    )\n",
    ")\n",
    "with open('twitter_keys_fullarchive.yaml', 'w') as config_file:\n",
    "    yaml.dump(config, config_file, default_flow_style=False)"
   ]
  },
  {
   "cell_type": "code",
   "execution_count": 4,
   "metadata": {},
   "outputs": [
    {
     "name": "stderr",
     "output_type": "stream",
     "text": [
      "Grabbing bearer token from OAUTH\n"
     ]
    },
    {
     "name": "stdout",
     "output_type": "stream",
     "text": [
      "{'bearer_token': 'AAAAAAAAAAAAAAAAAAAAAOv7DwEAAAAAzQvIqle7XPeQRPedU0ztdQa8EQU%3DoIuiLfNPdqymcErgUlFRwK49ZzgAAkEPLqAl2KZzXOPudFuA5N', 'endpoint': 'https://api.twitter.com/1.1/tweets/search/fullarchive/Development.json', 'extra_headers_dict': None}\n"
     ]
    }
   ],
   "source": [
    "from searchtweets import load_credentials\n",
    "\n",
    "premium_search_args = load_credentials(\"twitter_keys_fullarchive.yaml\",\n",
    "                                       yaml_key=\"search_tweets_api\",\n",
    "                                       env_overwrite=False)\n",
    "print(premium_search_args)"
   ]
  },
  {
   "cell_type": "code",
   "execution_count": 5,
   "metadata": {},
   "outputs": [],
   "source": [
    "from searchtweets import gen_rule_payload \n",
    "query = 'to:CIBC -is:verified -@BMO -@Scotiabank -@RBC -@TD_Canada -CIBC -RBC -Scotia -BMO -@INTERAC -question \\\n",
    "-(futuremakers OR FUTUREMAKERS) -(WiFi OR Wi-Fi OR wifi OR wi-fi) -pride -cure -CP0031 -HockeyCanada -DM - christmas  -box \\\n",
    "lang:en -is:retweet -has:images -has:videos -has:hashtags'\n",
    "rule = gen_rule_payload(query, results_per_call=500, from_date=\"2011-11-01\", to_date=\"2011-11-30\")\n",
    "from searchtweets import ResultStream\n",
    "\n",
    "rs = ResultStream(rule_payload=rule,\n",
    "                  max_results=500,\n",
    "                  **premium_search_args)\n",
    "print(rs)"
   ]
  },
  {
   "cell_type": "code",
   "execution_count": 7,
   "metadata": {},
   "outputs": [
    {
     "name": "stdout",
     "output_type": "stream",
     "text": [
      "done\n"
     ]
    }
   ],
   "source": [
    "import json\n",
    "with open('cibc1.jsonl', 'a', encoding='utf-8') as f:\n",
    "    for tweet in rs.stream():\n",
    "        json.dump(tweet, f)\n",
    "        f.write('\\n')\n",
    "print('done')\n",
    "import pandas as pd\n",
    "df = pd.read_json (r'cibc1.jsonl', lines=True)\n",
    "df.to_csv('cibc1.csv', index=False)"
   ]
  }
 ],
 "metadata": {
  "kernelspec": {
   "display_name": "Python 3",
   "language": "python",
   "name": "python3"
  },
  "language_info": {
   "codemirror_mode": {
    "name": "ipython",
    "version": 3
   },
   "file_extension": ".py",
   "mimetype": "text/x-python",
   "name": "python",
   "nbconvert_exporter": "python",
   "pygments_lexer": "ipython3",
   "version": "3.6.10"
  }
 },
 "nbformat": 4,
 "nbformat_minor": 4
}
